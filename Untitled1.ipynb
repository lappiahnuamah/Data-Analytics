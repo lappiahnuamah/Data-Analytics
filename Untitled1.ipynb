{
  "nbformat": 4,
  "nbformat_minor": 0,
  "metadata": {
    "colab": {
      "provenance": [],
      "authorship_tag": "ABX9TyPDgcH78RSiAYDSo/KqgQah",
      "include_colab_link": true
    },
    "kernelspec": {
      "name": "python3",
      "display_name": "Python 3"
    },
    "language_info": {
      "name": "python"
    }
  },
  "cells": [
    {
      "cell_type": "markdown",
      "metadata": {
        "id": "view-in-github",
        "colab_type": "text"
      },
      "source": [
        "<a href=\"https://colab.research.google.com/github/lappiahnuamah/Data-Analytics/blob/main/Untitled1.ipynb\" target=\"_parent\"><img src=\"https://colab.research.google.com/assets/colab-badge.svg\" alt=\"Open In Colab\"/></a>"
      ]
    },
    {
      "cell_type": "code",
      "execution_count": null,
      "metadata": {
        "id": "pFOsbm6bmMWK",
        "colab": {
          "base_uri": "https://localhost:8080/"
        },
        "outputId": "006b6fac-07fb-475f-d4e9-3817a7ec9875"
      },
      "outputs": [
        {
          "output_type": "stream",
          "name": "stdout",
          "text": [
            "['DataCamp', 'Python', 'Practice']\n"
          ]
        }
      ],
      "source": [
        "x = [[1,2,3,4,5],[\"DataCamp\",\"Python\",\"Practice\",\"Exercises\"],[True, False, 0, 1]]\n",
        "print(x[1][:3])"
      ]
    },
    {
      "cell_type": "code",
      "source": [
        "import numpy as np\n",
        "x = [[50, 3],[21, 15],[32, 80]]\n",
        "y = [10,10]\n",
        "np_x = np.array(x)\n",
        "np_y = np.array(y)\n",
        "print(np_x + np_y)"
      ],
      "metadata": {
        "colab": {
          "base_uri": "https://localhost:8080/"
        },
        "id": "iHPVS2y1yejz",
        "outputId": "68b368b8-ee69-4198-ebfd-f258662cf6bd"
      },
      "execution_count": null,
      "outputs": [
        {
          "output_type": "stream",
          "name": "stdout",
          "text": [
            "[[60 13]\n",
            " [31 25]\n",
            " [42 90]]\n"
          ]
        }
      ]
    },
    {
      "cell_type": "code",
      "source": [
        "print(np_x)"
      ],
      "metadata": {
        "colab": {
          "base_uri": "https://localhost:8080/"
        },
        "id": "HPxs6f6pylNy",
        "outputId": "ff7025ad-fcaf-41f8-a82e-b2d5794d61cf"
      },
      "execution_count": null,
      "outputs": [
        {
          "output_type": "stream",
          "name": "stdout",
          "text": [
            "[[50  3]\n",
            " [21 15]\n",
            " [32 80]]\n"
          ]
        }
      ]
    },
    {
      "cell_type": "code",
      "source": [
        "print(2*(np_x + np_y))"
      ],
      "metadata": {
        "colab": {
          "base_uri": "https://localhost:8080/"
        },
        "id": "pP0UlJdtyrfo",
        "outputId": "8aed7473-7d42-4526-b8f1-a4a44f63aa01"
      },
      "execution_count": null,
      "outputs": [
        {
          "output_type": "stream",
          "name": "stdout",
          "text": [
            "[[120  26]\n",
            " [ 62  50]\n",
            " [ 84 180]]\n"
          ]
        }
      ]
    },
    {
      "cell_type": "code",
      "source": [
        "\n"
      ],
      "metadata": {
        "id": "spQROFVZzjDO"
      },
      "execution_count": null,
      "outputs": []
    }
  ]
}