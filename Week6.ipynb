{
  "nbformat": 4,
  "nbformat_minor": 0,
  "metadata": {
    "colab": {
      "provenance": [],
      "include_colab_link": true
    },
    "kernelspec": {
      "name": "python3",
      "display_name": "Python 3"
    },
    "language_info": {
      "name": "python"
    }
  },
  "cells": [
    {
      "cell_type": "markdown",
      "metadata": {
        "id": "view-in-github",
        "colab_type": "text"
      },
      "source": [
        "<a href=\"https://colab.research.google.com/github/lappiahnuamah/Data-Analytics/blob/main/Week6.ipynb\" target=\"_parent\"><img src=\"https://colab.research.google.com/assets/colab-badge.svg\" alt=\"Open In Colab\"/></a>"
      ]
    },
    {
      "cell_type": "code",
      "source": [],
      "metadata": {
        "id": "c3IvAfmS52Kf"
      },
      "execution_count": null,
      "outputs": []
    },
    {
      "cell_type": "markdown",
      "metadata": {
        "id": "imYIopqRm4bN"
      },
      "source": [
        "# Classes"
      ]
    },
    {
      "cell_type": "code",
      "metadata": {
        "id": "rnWojyVEDptP"
      },
      "source": [
        "class Person:\n",
        "      def __init__ (self, name):\n",
        "          self.name = name"
      ],
      "execution_count": null,
      "outputs": []
    },
    {
      "cell_type": "code",
      "metadata": {
        "colab": {
          "base_uri": "https://localhost:8080/"
        },
        "id": "Aw9PFTcHm8-Z",
        "outputId": "917ca5fb-df07-4c3c-a70a-602acf8d9980"
      },
      "source": [
        "Person"
      ],
      "execution_count": null,
      "outputs": [
        {
          "output_type": "execute_result",
          "data": {
            "text/plain": [
              "__main__.Person"
            ]
          },
          "metadata": {},
          "execution_count": 2
        }
      ]
    },
    {
      "cell_type": "code",
      "metadata": {
        "colab": {
          "base_uri": "https://localhost:8080/"
        },
        "id": "BEAp-NNGDzUH",
        "outputId": "05fa9872-18eb-487f-f38d-9296cfb53649"
      },
      "source": [
        "p = Person('Joe')\n",
        "print(p.name)\n",
        "print(p)"
      ],
      "execution_count": null,
      "outputs": [
        {
          "output_type": "stream",
          "name": "stdout",
          "text": [
            "Joe\n",
            "<__main__.Person object at 0x7f356c23ca50>\n"
          ]
        }
      ]
    },
    {
      "cell_type": "code",
      "metadata": {
        "id": "pPC0nnzUEExH"
      },
      "source": [
        "class Person1:\n",
        "      def __init__(self, firstname, lastname, age, country, city):\n",
        "          self.firstname = firstname\n",
        "          self.lastname = lastname\n",
        "          self.age = age\n",
        "          self.country = country\n",
        "          self.city = city\n",
        "\n",
        "      def person_info(self):\n",
        "        return f'{self.firstname} {self.lastname} is {self.age} years old. He lives in {self.city}, {self.country}'\n",
        "\n"
      ],
      "execution_count": null,
      "outputs": []
    },
    {
      "cell_type": "code",
      "metadata": {
        "colab": {
          "base_uri": "https://localhost:8080/"
        },
        "id": "TAjiAGUdEnN-",
        "outputId": "e27700b1-43bf-4b71-8c47-4a25d4fecbd7"
      },
      "source": [
        "p = Person1('Joe', 'Adam', 100, 'USA', 'new york')\n",
        "print(p.firstname)\n",
        "print(p.lastname)\n",
        "print(p.age)\n",
        "print(p.country)\n",
        "print(p.city)"
      ],
      "execution_count": null,
      "outputs": [
        {
          "output_type": "stream",
          "name": "stdout",
          "text": [
            "Joe\n",
            "Adam\n",
            "100\n",
            "USA\n",
            "new york\n"
          ]
        }
      ]
    },
    {
      "cell_type": "code",
      "metadata": {
        "colab": {
          "base_uri": "https://localhost:8080/"
        },
        "id": "7SMrQt49EaWs",
        "outputId": "9f6e6303-964a-45fe-9121-98577be15438"
      },
      "source": [
        "print(p.person_info())"
      ],
      "execution_count": null,
      "outputs": [
        {
          "output_type": "stream",
          "name": "stdout",
          "text": [
            "Joe Adam is 100 years old. He lives in new york, USA\n"
          ]
        }
      ]
    },
    {
      "cell_type": "code",
      "metadata": {
        "colab": {
          "base_uri": "https://localhost:8080/"
        },
        "id": "NVaak0gdEk8Z",
        "outputId": "9f761c90-401d-48f1-d8fa-6aacb55e92f1"
      },
      "source": [
        "class Person2:\n",
        "      def __init__(self, firstname='Joe', lastname='Adam', age=100, country='USA', city='new york'):\n",
        "          self.firstname = firstname\n",
        "          self.lastname = lastname\n",
        "          self.age = age\n",
        "          self.country = country\n",
        "          self.city = city\n",
        "\n",
        "      def person_info(self):\n",
        "        return f'{self.firstname} {self.lastname} is {self.age} years old. He lives in {self.city}, {self.country}.'\n",
        "\n",
        "p1 = Person2()\n",
        "print(p1.person_info())\n",
        "p2 = Person2('John', 'Doe', 30, 'Nomanland', 'Noman city')\n",
        "print(p2.person_info())"
      ],
      "execution_count": null,
      "outputs": [
        {
          "output_type": "stream",
          "text": [
            "Joe Adam is 100 years old. He lives in new york, USA.\n",
            "John Doe is 30 years old. He lives in Noman city, Nomanland.\n"
          ],
          "name": "stdout"
        }
      ]
    },
    {
      "cell_type": "markdown",
      "metadata": {
        "id": "aSBZ6qiqFIvB"
      },
      "source": []
    },
    {
      "cell_type": "code",
      "metadata": {
        "colab": {
          "base_uri": "https://localhost:8080/"
        },
        "id": "5Eh-udwUE3dJ",
        "outputId": "4b05fd90-42f9-4644-e924-e9189e538ccd"
      },
      "source": [
        "class Person3:\n",
        "      def __init__(self, firstname='Joe', lastname='Adam', age=100, country='USA', city='new york'):\n",
        "          self.firstname = firstname\n",
        "          self.lastname = lastname\n",
        "          self.age = age\n",
        "          self.country = country\n",
        "          self.city = city\n",
        "          self.skills = []\n",
        "\n",
        "      def person_info(self):\n",
        "        return f'{self.firstname} {self.lastname} is {self.age} years old. He lives in {self.city}, {self.country}.'\n",
        "        \n",
        "      def add_skill(self, skill):\n",
        "          self.skills.append(skill)\n",
        "\n",
        "p1 = Person3()\n",
        "print(p1.person_info())\n",
        "p1.add_skill('HTML')\n",
        "p1.add_skill('CSS')\n",
        "p1.add_skill('JavaScript')\n",
        "\n",
        "\n",
        "p2 = Person3('John', 'Doe', 30, 'Nomanland', 'Noman city')\n",
        "print(p2.person_info())\n",
        "\n",
        "\n",
        "\n",
        "print(p1.skills)\n",
        "print(p2.skills)"
      ],
      "execution_count": null,
      "outputs": [
        {
          "output_type": "stream",
          "name": "stdout",
          "text": [
            "Joe Adam is 100 years old. He lives in new york, USA.\n",
            "John Doe is 30 years old. He lives in Noman city, Nomanland.\n",
            "['HTML', 'CSS', 'JavaScript']\n",
            "[]\n"
          ]
        }
      ]
    },
    {
      "cell_type": "markdown",
      "metadata": {
        "id": "2RwW6l5dFZ5V"
      },
      "source": [
        "\n",
        "### Inheritance\n",
        "Using inheritance we can reuse parent class code. Inheritance allows us to define a class that inherits all the methods and properties from another class. The parent class or super or base class is the class which gives all the methods and properties. Child class is the class that inherits from another class. Let's create a student class by inheriting from person class."
      ]
    },
    {
      "cell_type": "code",
      "metadata": {
        "colab": {
          "base_uri": "https://localhost:8080/"
        },
        "id": "8AEE67hdFS4M",
        "outputId": "32260a89-5a6e-4f05-dd08-e1708cc63c1d"
      },
      "source": [
        "class Student(Person3):\n",
        "    pass\n",
        "\n",
        "\n",
        "s1 = Student('Sam', 'Doe', 30, 'USA', 'florida')\n",
        "s2 = Student('Yara', 'Doe', 28, 'USA', 'florida')\n",
        "print(s1.person_info())\n",
        "s1.add_skill('JavaScript')\n",
        "s1.add_skill('React')\n",
        "s1.add_skill('Python')\n",
        "print(s1.skills)\n",
        "\n",
        "print(s2.person_info())\n",
        "s2.add_skill('Organizing')\n",
        "s2.add_skill('Marketing')\n",
        "s2.add_skill('Digital Marketing')\n",
        "print(s2.skills)"
      ],
      "execution_count": null,
      "outputs": [
        {
          "output_type": "stream",
          "text": [
            "Sam Doe is 30 years old. He lives in florida, USA.\n",
            "['JavaScript', 'React', 'Python']\n",
            "Yara Doe is 28 years old. He lives in florida, USA.\n",
            "['Organizing', 'Marketing', 'Digital Marketing']\n"
          ],
          "name": "stdout"
        }
      ]
    },
    {
      "cell_type": "markdown",
      "metadata": {
        "id": "ncaMpQhli2pL"
      },
      "source": [
        "# Python Decorators: "
      ]
    },
    {
      "cell_type": "markdown",
      "metadata": {
        "id": "FupXQIRBjEdU"
      },
      "source": [
        "### A decorator takes a function, extends it and returns. Yes, a function can return a function\n",
        "\n"
      ]
    },
    {
      "cell_type": "code",
      "metadata": {
        "colab": {
          "base_uri": "https://localhost:8080/"
        },
        "id": "H0zcutkUi5lr",
        "outputId": "51bef004-642a-474a-c439-22bac56de051"
      },
      "source": [
        "def hello(func):                                                                                            \n",
        "    def inner():                                                                                            \n",
        "        print(\"Hello \")                                                                                     \n",
        "        func()   # name()   \n",
        "                                                                                                \n",
        "    return inner                                                                                            \n",
        "                                                                                                            \n",
        "def name():                                                                                                 \n",
        "    print(\"Alice\")                                                                                          \n",
        "                                                                                                            \n",
        "                                                                                                            \n",
        "obj = hello(name)                                                                                           \n",
        "obj() \n"
      ],
      "execution_count": null,
      "outputs": [
        {
          "output_type": "stream",
          "name": "stdout",
          "text": [
            "Hello \n",
            "Alice\n"
          ]
        }
      ]
    },
    {
      "cell_type": "code",
      "metadata": {
        "colab": {
          "base_uri": "https://localhost:8080/"
        },
        "id": "UFnPc_oGjnZk",
        "outputId": "54320694-372c-43b3-a2a2-c2562418ed0f"
      },
      "source": [
        "name()"
      ],
      "execution_count": null,
      "outputs": [
        {
          "output_type": "stream",
          "name": "stdout",
          "text": [
            "Alice\n"
          ]
        }
      ]
    },
    {
      "cell_type": "code",
      "metadata": {
        "id": "cqx_891qjMeL"
      },
      "source": [
        "# The following is equivalent to `obj = hello(name)`\n",
        "@hello                                                                                                      \n",
        "def name():                                                                                                 \n",
        "    print(\"Alice\") "
      ],
      "execution_count": null,
      "outputs": []
    },
    {
      "cell_type": "code",
      "metadata": {
        "colab": {
          "base_uri": "https://localhost:8080/"
        },
        "id": "yyqaUV5pjkaJ",
        "outputId": "76fefccc-3fc7-41c1-a86f-c6c2133b3210"
      },
      "source": [
        "name()"
      ],
      "execution_count": null,
      "outputs": [
        {
          "output_type": "stream",
          "name": "stdout",
          "text": [
            "Hello \n",
            "Alice\n"
          ]
        }
      ]
    },
    {
      "cell_type": "code",
      "metadata": {
        "id": "d9ieK_Zyjl2J"
      },
      "source": [
        "# Example \n",
        "import time\n",
        "def myFunction(n):                                                                                                        \n",
        "  time.sleep(n) "
      ],
      "execution_count": null,
      "outputs": []
    },
    {
      "cell_type": "code",
      "metadata": {
        "colab": {
          "base_uri": "https://localhost:8080/"
        },
        "id": "9jMPM9nskVfF",
        "outputId": "cac0755b-2159-4054-818f-37301206a85c"
      },
      "source": [
        "myFunction(2)\n",
        "print(\"2 seconds have passed\")"
      ],
      "execution_count": null,
      "outputs": [
        {
          "output_type": "stream",
          "name": "stdout",
          "text": [
            "2 seconds have passed\n"
          ]
        }
      ]
    },
    {
      "cell_type": "code",
      "metadata": {
        "id": "8oSKEkytkJYI"
      },
      "source": [
        "import time                                                                                                               \n",
        "                                                                                                                          \n",
        "def measure_time(func):                                                                                                   \n",
        "                                                                                                                          \n",
        "  def wrapper(*arg):                                                                                                      \n",
        "      t = time.time()                                                                                                     \n",
        "      res = func(*arg)                                                                                                    \n",
        "      print(\"Function took \" + str(time.time()-t) + \" seconds to run\")                                                    \n",
        "      return res                                                                                                          \n",
        "                                                                                                                          \n",
        "  return wrapper  "
      ],
      "execution_count": null,
      "outputs": []
    },
    {
      "cell_type": "code",
      "metadata": {
        "id": "WwL1bbY1kLcq"
      },
      "source": [
        "@measure_time                                                                                                             \n",
        "def myFunction(n):                                                                                                        \n",
        "  time.sleep(n) "
      ],
      "execution_count": null,
      "outputs": []
    },
    {
      "cell_type": "code",
      "metadata": {
        "colab": {
          "base_uri": "https://localhost:8080/"
        },
        "id": "oPiqQOqFkRht",
        "outputId": "bf5fe817-aa60-46f1-bed3-bcc33b0fced6"
      },
      "source": [
        "myFunction(2)\n",
        "#print(\"2 seconds have passed\")"
      ],
      "execution_count": null,
      "outputs": [
        {
          "output_type": "stream",
          "name": "stdout",
          "text": [
            "Function took 2.0021586418151855 seconds to run\n"
          ]
        }
      ]
    },
    {
      "cell_type": "code",
      "source": [],
      "metadata": {
        "id": "D348I3pk44O-"
      },
      "execution_count": null,
      "outputs": []
    }
  ]
}